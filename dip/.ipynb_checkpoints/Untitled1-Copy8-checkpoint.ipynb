{
 "cells": [
  {
   "cell_type": "code",
   "execution_count": 1,
   "metadata": {},
   "outputs": [],
   "source": [
    "import numpy as np\n",
    "import matplotlib.pyplot as plt\n",
    "%matplotlib inline \n",
    "import cv2"
   ]
  },
  {
   "cell_type": "code",
   "execution_count": 2,
   "metadata": {},
   "outputs": [],
   "source": [
    "plt.rcParams['figure.figsize'] = [6, 8]"
   ]
  },
  {
   "cell_type": "code",
   "execution_count": 4,
   "metadata": {},
   "outputs": [
    {
     "ename": "error",
     "evalue": "OpenCV(4.4.0) C:\\Users\\appveyor\\AppData\\Local\\Temp\\1\\pip-req-build-sxpsnzt6\\opencv\\modules\\imgproc\\src\\color.cpp:182: error: (-215:Assertion failed) !_src.empty() in function 'cv::cvtColor'\n",
     "output_type": "error",
     "traceback": [
      "\u001b[1;31m---------------------------------------------------------------------------\u001b[0m",
      "\u001b[1;31merror\u001b[0m                                     Traceback (most recent call last)",
      "\u001b[1;32m<ipython-input-4-a1c62bd858eb>\u001b[0m in \u001b[0;36m<module>\u001b[1;34m\u001b[0m\n\u001b[0;32m      1\u001b[0m \u001b[1;31m# 1. Doc anh, chuyen thanh anh xam\u001b[0m\u001b[1;33m\u001b[0m\u001b[1;33m\u001b[0m\u001b[1;33m\u001b[0m\u001b[0m\n\u001b[0;32m      2\u001b[0m \u001b[0mimage\u001b[0m \u001b[1;33m=\u001b[0m \u001b[0mcv2\u001b[0m\u001b[1;33m.\u001b[0m\u001b[0mimread\u001b[0m\u001b[1;33m(\u001b[0m\u001b[1;34m\"ex2.jpg\"\u001b[0m\u001b[1;33m)\u001b[0m\u001b[1;33m\u001b[0m\u001b[1;33m\u001b[0m\u001b[0m\n\u001b[1;32m----> 3\u001b[1;33m \u001b[0mgray\u001b[0m \u001b[1;33m=\u001b[0m \u001b[0mcv2\u001b[0m\u001b[1;33m.\u001b[0m\u001b[0mcvtColor\u001b[0m\u001b[1;33m(\u001b[0m\u001b[0mimage\u001b[0m\u001b[1;33m,\u001b[0m \u001b[0mcv2\u001b[0m\u001b[1;33m.\u001b[0m\u001b[0mCOLOR_BGR2GRAY\u001b[0m\u001b[1;33m)\u001b[0m\u001b[1;33m\u001b[0m\u001b[1;33m\u001b[0m\u001b[0m\n\u001b[0m\u001b[0;32m      4\u001b[0m \u001b[0mblurred\u001b[0m \u001b[1;33m=\u001b[0m \u001b[0mcv2\u001b[0m\u001b[1;33m.\u001b[0m\u001b[0mGaussianBlur\u001b[0m\u001b[1;33m(\u001b[0m\u001b[0mgray\u001b[0m\u001b[1;33m,\u001b[0m \u001b[1;33m(\u001b[0m\u001b[1;36m5\u001b[0m\u001b[1;33m,\u001b[0m \u001b[1;36m5\u001b[0m\u001b[1;33m)\u001b[0m\u001b[1;33m,\u001b[0m \u001b[1;36m0\u001b[0m\u001b[1;33m)\u001b[0m\u001b[1;33m\u001b[0m\u001b[1;33m\u001b[0m\u001b[0m\n\u001b[0;32m      5\u001b[0m \u001b[0mplt\u001b[0m\u001b[1;33m.\u001b[0m\u001b[0mimshow\u001b[0m\u001b[1;33m(\u001b[0m\u001b[0mblurred\u001b[0m\u001b[1;33m,\u001b[0m \u001b[0mcmap\u001b[0m\u001b[1;33m=\u001b[0m\u001b[1;34m'gray'\u001b[0m\u001b[1;33m)\u001b[0m\u001b[1;33m\u001b[0m\u001b[1;33m\u001b[0m\u001b[0m\n",
      "\u001b[1;31merror\u001b[0m: OpenCV(4.4.0) C:\\Users\\appveyor\\AppData\\Local\\Temp\\1\\pip-req-build-sxpsnzt6\\opencv\\modules\\imgproc\\src\\color.cpp:182: error: (-215:Assertion failed) !_src.empty() in function 'cv::cvtColor'\n"
     ]
    }
   ],
   "source": [
    "# 1. Doc anh, chuyen thanh anh xam\n",
    "image = cv2.imread(\"exam2.png\")\n",
    "gray = cv2.cvtColor(image, cv2.COLOR_BGR2GRAY)\n",
    "blurred = cv2.GaussianBlur(gray, (5, 5), 0)\n",
    "plt.imshow(blurred, cmap='gray')"
   ]
  },
  {
   "cell_type": "code",
   "execution_count": 3,
   "metadata": {},
   "outputs": [
    {
     "ename": "NameError",
     "evalue": "name 'blurred' is not defined",
     "output_type": "error",
     "traceback": [
      "\u001b[1;31m---------------------------------------------------------------------------\u001b[0m",
      "\u001b[1;31mNameError\u001b[0m                                 Traceback (most recent call last)",
      "\u001b[1;32m<ipython-input-3-14496ab469f8>\u001b[0m in \u001b[0;36m<module>\u001b[1;34m\u001b[0m\n\u001b[0;32m      1\u001b[0m \u001b[1;31m# 2. Threshold de\u001b[0m\u001b[1;33m\u001b[0m\u001b[1;33m\u001b[0m\u001b[1;33m\u001b[0m\u001b[0m\n\u001b[1;32m----> 2\u001b[1;33m \u001b[0mthresh\u001b[0m \u001b[1;33m=\u001b[0m \u001b[0mcv2\u001b[0m\u001b[1;33m.\u001b[0m\u001b[0madaptiveThreshold\u001b[0m\u001b[1;33m(\u001b[0m\u001b[0mblurred\u001b[0m\u001b[1;33m,\u001b[0m\u001b[1;36m255\u001b[0m\u001b[1;33m,\u001b[0m\u001b[0mcv2\u001b[0m\u001b[1;33m.\u001b[0m\u001b[0mADAPTIVE_THRESH_GAUSSIAN_C\u001b[0m\u001b[1;33m,\u001b[0m            \u001b[0mcv2\u001b[0m\u001b[1;33m.\u001b[0m\u001b[0mTHRESH_BINARY_INV\u001b[0m\u001b[1;33m,\u001b[0m\u001b[1;36m31\u001b[0m\u001b[1;33m,\u001b[0m\u001b[1;36m3\u001b[0m\u001b[1;33m)\u001b[0m\u001b[1;33m\u001b[0m\u001b[1;33m\u001b[0m\u001b[0m\n\u001b[0m\u001b[0;32m      3\u001b[0m \u001b[0mplt\u001b[0m\u001b[1;33m.\u001b[0m\u001b[0mimshow\u001b[0m\u001b[1;33m(\u001b[0m\u001b[0mthresh\u001b[0m\u001b[1;33m,\u001b[0m \u001b[0mcmap\u001b[0m\u001b[1;33m=\u001b[0m\u001b[1;34m'gray'\u001b[0m\u001b[1;33m)\u001b[0m\u001b[1;33m\u001b[0m\u001b[1;33m\u001b[0m\u001b[0m\n",
      "\u001b[1;31mNameError\u001b[0m: name 'blurred' is not defined"
     ]
    }
   ],
   "source": [
    "# 2. Threshold de\n",
    "thresh = cv2.adaptiveThreshold(blurred,255,cv2.ADAPTIVE_THRESH_GAUSSIAN_C,            cv2.THRESH_BINARY_INV,31,3)\n",
    "plt.imshow(thresh, cmap='gray')"
   ]
  },
  {
   "cell_type": "code",
   "execution_count": null,
   "metadata": {},
   "outputs": [],
   "source": [
    "# img = cv2.resize(thresh, (850,650))\n",
    "# plt.imshow(img)"
   ]
  },
  {
   "cell_type": "code",
   "execution_count": null,
   "metadata": {},
   "outputs": [],
   "source": [
    "# Chuyển thành ảnh đen trắng bằng Gaussian Threshold \n",
    "# (với những phép toán như tìm contour hoặc binary_fill_holes sẽ xử lý hiệu quả hơn trên ảnh đen trắng nên cần có bước này)\n",
    "im = cv2.adaptiveThreshold(255-img,255,cv2.ADAPTIVE_THRESH_GAUSSIAN_C,\\\n",
    "            cv2.THRESH_BINARY,31,7)\n",
    "plt.imshow(im, cmap = 'gray')"
   ]
  },
  {
   "cell_type": "code",
   "execution_count": null,
   "metadata": {},
   "outputs": [],
   "source": [
    "# lấp chỗ trống trong những hình tròn\n",
    "from scipy.ndimage.morphology import binary_fill_holes\n",
    "\n",
    "# binary_fill_holes là 1 hàm binary delation\n",
    "clean_image = binary_fill_holes(255-im)\n",
    "plt.imshow(clean_image, cmap='gray')"
   ]
  },
  {
   "cell_type": "code",
   "execution_count": null,
   "metadata": {},
   "outputs": [],
   "source": [
    "clean_image = np.float32(clean_image)\n",
    "plt.imshow(clean_image, cmap='gray')"
   ]
  },
  {
   "cell_type": "code",
   "execution_count": null,
   "metadata": {},
   "outputs": [],
   "source": [
    "# Opening (mục đích để loại bỏ trường hợp 2 hình tròn dính nhau, hoặc hình tròn dính vào chữ, \n",
    "# tuy nhiên opening làm mất dấu khi các hình tròn bị gạch chéo)\n",
    "kernel = cv2.getStructuringElement(cv2.MORPH_RECT, (7,7))\n",
    "opening = cv2.morphologyEx(clean_image, cv2.MORPH_OPEN, kernel)\n",
    "plt.imshow(opening, cmap='gray')"
   ]
  },
  {
   "cell_type": "code",
   "execution_count": null,
   "metadata": {},
   "outputs": [],
   "source": [
    "kernel = cv2.getStructuringElement(cv2.MORPH_RECT, (1, 1))\n",
    "dilation = cv2.dilate(opening, kernel, iterations=1)\n",
    "plt.imshow(dilation, cmap='gray')"
   ]
  },
  {
   "cell_type": "code",
   "execution_count": null,
   "metadata": {},
   "outputs": [],
   "source": [
    "# Lấy ra vị trí các contour (contour là 1 chuỗi tọa độ (x_i, y_) các điểm có cùng độ sáng dọc theo biên của 1 object (t đang hiểu là thế))\n",
    "contours, _ = cv2.findContours(dilation.astype(np.uint8), # pylint: disable=unused-variable\n",
    "                                  cv2.RETR_EXTERNAL,\n",
    "                                  cv2.CHAIN_APPROX_NONE)\n",
    "\n",
    "# Vẽ contour\n",
    "obj_image = np.zeros(dilation.shape)\n",
    "for index, cnt in enumerate(contours):\n",
    "#     print(cnt.shape)\n",
    "#     print(cnt)\n",
    "    cv2.drawContours(dilation, [cnt], 0, 255, -1)"
   ]
  },
  {
   "cell_type": "code",
   "execution_count": null,
   "metadata": {},
   "outputs": [],
   "source": [
    "import matplotlib.pyplot as plt\n",
    "\n",
    "round_thresh = 0.6\n",
    "\n",
    "plt.figure()\n",
    "height, width = dilation.shape\n",
    "plt.imshow(img.astype(np.uint8), cmap='gray')\n",
    "\n",
    "areas = []\n",
    "alphas = []\n",
    "arrayOfCenter = [] # mảng toạ độ tâm đường tròn\n",
    "# print('Object      Area Perimeter Roundness')\n",
    "for ind, contour in enumerate(contours):\n",
    "    # tính chu vi của contour\n",
    "    perimeter = cv2.arcLength(contour, True)\n",
    "    # tính diện tích của contour\n",
    "    area = cv2.contourArea(contour)\n",
    "    areas.append(area)\n",
    "    \n",
    "    # nếu như chu vi bằng 0 hoặc area nhỏ hơn threshold thì ta đặt ngay góc alpha = 0\n",
    "    if perimeter==0 or area<140:\n",
    "        alpha = 0\n",
    "    else:\n",
    "        alpha = 4*np.pi*area/(perimeter**2)\n",
    "        alphas.append(alpha)\n",
    "\n",
    "    # Vẽ vòng tròn đỏ tại tâm của contour thỏa mãn điều kiện là vòng tròn\n",
    "    if alpha > round_thresh:\n",
    "        moments = cv2.moments(contour)\n",
    "        cx = int(moments['m10'] / moments['m00'])\n",
    "        cy = int(moments['m01'] / moments['m00'])\n",
    "        if cy > 110:\n",
    "            plt.plot(cx, cy, 'ro')\n",
    "            arrayOfCenter.append([cx,cy])"
   ]
  },
  {
   "cell_type": "code",
   "execution_count": null,
   "metadata": {},
   "outputs": [],
   "source": [
    "# Lấy các khung quanh đường tròn\n",
    "immm = img.astype(np.uint8)\n",
    "for i in arrayOfCenter:\n",
    "    print(i)\n",
    "# Khung ảnh mỗi đường tròn được khoanh\n",
    "arrayOfFrame = []  \n",
    "# Lấy 40px cho mỗi khung\n",
    "l = 20\n",
    "for i in arrayOfCenter:\n",
    "    a = []\n",
    "    for y in range(i[1]-l, i[1]+l):\n",
    "        row = []\n",
    "        for x in range(i[0]-l, i[0]+l):\n",
    "            row.append(immm[y][x])\n",
    "        a.append(row)\n",
    "    arrayOfFrame.append(a)\n",
    "print(len(arrayOfFrame))"
   ]
  },
  {
   "cell_type": "code",
   "execution_count": null,
   "metadata": {},
   "outputs": [],
   "source": [
    "# Hàm lấy contour lớn nhất\n",
    "def find_max_contour(img):\n",
    "    # Lấy ra vị trí các contour (contour là 1 chuỗi tọa độ (x_i, y_) các điểm có cùng độ sáng dọc theo biên của 1 object (t đang hiểu là thế))\n",
    "    contours, _ = cv2.findContours(img.astype(np.uint8), # pylint: disable=unused-variable\n",
    "                                  cv2.RETR_EXTERNAL,\n",
    "                                  cv2.CHAIN_APPROX_NONE)\n",
    "    num = 0\n",
    "    maxContour = 0\n",
    "    maxContourIndex = 0\n",
    "    maxContourArray = []\n",
    "    for index, cnt in enumerate(contours):\n",
    "        num+= 1\n",
    "        sizeOfContour = np.array(cnt).shape[0]\n",
    "        if sizeOfContour > maxContour:\n",
    "            x,y,w,h = cv2.boundingRect(cnt)\n",
    "            maxContour = sizeOfContour\n",
    "            maxContourIndex = index\n",
    "            maxContourArray = cnt\n",
    "    # Vẽ lại contour lớn nhất\n",
    "    newArray = np.zeros(img.shape)\n",
    "    h = img.shape[0]\n",
    "    w = img.shape[1]\n",
    "    for i in range(0,h):\n",
    "        for j in range(0, w):\n",
    "            for k in maxContourArray:\n",
    "                if k[0][0] == i and k[0][1] == j:\n",
    "                    newArray[j][i] = 255\n",
    "    return newArray"
   ]
  },
  {
   "cell_type": "code",
   "execution_count": null,
   "metadata": {},
   "outputs": [],
   "source": [
    "# Hàm xác định xem bị gạch hay không\n",
    "def check_cross(img):\n",
    "    # Lấy contour lớn nhất\n",
    "    maxContourArray = [] \n",
    "    maxContourArray = find_max_contour(img)\n",
    "    # Fill contour lớn nhất\n",
    "    from scipy.ndimage.morphology import binary_fill_holes\n",
    "    clean_image = binary_fill_holes(maxContourArray)\n",
    "    clean_image = np.float32(clean_image)\n",
    "    # Opening để xoá mất gạch\n",
    "    kernel = cv2.getStructuringElement(cv2.MORPH_RECT, (3,3))\n",
    "    opening = cv2.morphologyEx(clean_image, cv2.MORPH_OPEN, kernel)\n",
    "    # Trừ bản trước và sau opening để xác định gạch\n",
    "    minus = clean_image - opening\n",
    "    count = 0\n",
    "    # Đếm số lượng pixel để xem có bị gạch không, khá lớn là có bị gạch\n",
    "    h = img.shape[0]\n",
    "    w = img.shape[1]\n",
    "    for i in range(0,h):\n",
    "        for j in range(0, w):\n",
    "            if minus[j][i] > 0:\n",
    "                count+=1\n",
    "    # Chỉnh ngưỡng nếu cần\n",
    "    if count  > 10:\n",
    "        return True\n",
    "    return False"
   ]
  },
  {
   "cell_type": "code",
   "execution_count": null,
   "metadata": {},
   "outputs": [],
   "source": [
    "def get_circles_no_cross(centers):\n",
    "    circleNoCross = []\n",
    "    for i in centers:\n",
    "        if check_cross(np.array(i)) == False:\n",
    "            circleNoCross.append(i)\n",
    "    return circleNoCross"
   ]
  },
  {
   "cell_type": "code",
   "execution_count": null,
   "metadata": {},
   "outputs": [],
   "source": [
    "print(\"Lớn quá là bị gạch nhé:\") \n",
    "center = get_circles_no_cross(arrayOfFrame)\n",
    "print(len(center))"
   ]
  },
  {
   "cell_type": "code",
   "execution_count": null,
   "metadata": {},
   "outputs": [],
   "source": []
  }
 ],
 "metadata": {
  "kernelspec": {
   "display_name": "Python 3",
   "language": "python",
   "name": "python3"
  },
  "language_info": {
   "codemirror_mode": {
    "name": "ipython",
    "version": 3
   },
   "file_extension": ".py",
   "mimetype": "text/x-python",
   "name": "python",
   "nbconvert_exporter": "python",
   "pygments_lexer": "ipython3",
   "version": "3.7.6"
  }
 },
 "nbformat": 4,
 "nbformat_minor": 4
}
